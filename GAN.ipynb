{
  "cells": [
    {
      "cell_type": "markdown",
      "metadata": {
        "id": "view-in-github",
        "colab_type": "text"
      },
      "source": [
        "<a href=\"https://colab.research.google.com/github/pranay-009/GAN/blob/main/GAN.ipynb\" target=\"_parent\"><img src=\"https://colab.research.google.com/assets/colab-badge.svg\" alt=\"Open In Colab\"/></a>"
      ]
    },
    {
      "cell_type": "code",
      "execution_count": null,
      "metadata": {
        "id": "pRjbWQ1DrnAW"
      },
      "outputs": [],
      "source": [
        "from keras.datasets import mnist\n",
        "from keras.layers import Input, Dense, Reshape, Flatten\n",
        "from keras.layers import BatchNormalization\n",
        "from keras.layers.advanced_activations import LeakyReLU\n",
        "from keras.models import Sequential, Model\n",
        "import tensorflow as tf\n",
        "import os\n",
        "import numpy as num\n",
        "import matplotlib.pyplot as plt\n",
        "import keras"
      ]
    },
    {
      "cell_type": "code",
      "execution_count": null,
      "metadata": {
        "id": "e5xko7FFs8X0"
      },
      "outputs": [],
      "source": [
        "img_shape=(28,28,1)"
      ]
    },
    {
      "cell_type": "code",
      "execution_count": null,
      "metadata": {
        "id": "av8MWAMUuZOW"
      },
      "outputs": [],
      "source": [
        ""
      ]
    },
    {
      "cell_type": "code",
      "execution_count": null,
      "metadata": {
        "id": "aWgumEqTvGGk"
      },
      "outputs": [],
      "source": [
        ""
      ]
    },
    {
      "cell_type": "code",
      "execution_count": null,
      "metadata": {
        "id": "LnFRW0u8vHAM"
      },
      "outputs": [],
      "source": [
        "def generator():\n",
        "    latent_shape=(100,)\n",
        "    model=Sequential()\n",
        "    model.add(Input(shape=latent_shape))\n",
        "    model.add(Dense(256))\n",
        "    model.add(LeakyReLU(alpha=0.2))\n",
        "    model.add(BatchNormalization(momentum=0.8))\n",
        "    model.add(Dense(512))\n",
        "    model.add(LeakyReLU(alpha=0.2))\n",
        "    model.add(BatchNormalization(momentum=0.8))\n",
        "    model.add(Dense(1024))\n",
        "    model.add(LeakyReLU(alpha=0.2))\n",
        "    model.add(BatchNormalization(momentum=0.8))\n",
        "    model.add(Dense(num.prod(img_shape),activation=\"tanh\"))\n",
        "    model.add(Reshape(img_shape))\n",
        "    \n",
        "    \"........................................................\"\n",
        "    return model\n",
        "    "
      ]
    },
    {
      "cell_type": "code",
      "source": [
        "gen=generator()\n",
        "gen.summary()"
      ],
      "metadata": {
        "colab": {
          "base_uri": "https://localhost:8080/"
        },
        "id": "PZnQOy2TpD-A",
        "outputId": "6e1b1833-56c0-47a3-f978-355b9cec3618"
      },
      "execution_count": null,
      "outputs": [
        {
          "output_type": "stream",
          "name": "stdout",
          "text": [
            "Model: \"sequential\"\n",
            "_________________________________________________________________\n",
            " Layer (type)                Output Shape              Param #   \n",
            "=================================================================\n",
            " dense (Dense)               (None, 256)               25856     \n",
            "                                                                 \n",
            " leaky_re_lu (LeakyReLU)     (None, 256)               0         \n",
            "                                                                 \n",
            " batch_normalization (BatchN  (None, 256)              1024      \n",
            " ormalization)                                                   \n",
            "                                                                 \n",
            " dense_1 (Dense)             (None, 512)               131584    \n",
            "                                                                 \n",
            " leaky_re_lu_1 (LeakyReLU)   (None, 512)               0         \n",
            "                                                                 \n",
            " batch_normalization_1 (Batc  (None, 512)              2048      \n",
            " hNormalization)                                                 \n",
            "                                                                 \n",
            " dense_2 (Dense)             (None, 1024)              525312    \n",
            "                                                                 \n",
            " leaky_re_lu_2 (LeakyReLU)   (None, 1024)              0         \n",
            "                                                                 \n",
            " batch_normalization_2 (Batc  (None, 1024)             4096      \n",
            " hNormalization)                                                 \n",
            "                                                                 \n",
            " dense_3 (Dense)             (None, 784)               803600    \n",
            "                                                                 \n",
            " reshape (Reshape)           (None, 28, 28, 1)         0         \n",
            "                                                                 \n",
            "=================================================================\n",
            "Total params: 1,493,520\n",
            "Trainable params: 1,489,936\n",
            "Non-trainable params: 3,584\n",
            "_________________________________________________________________\n"
          ]
        }
      ]
    },
    {
      "cell_type": "code",
      "execution_count": null,
      "metadata": {
        "id": "7s7cS0U21HF1"
      },
      "outputs": [],
      "source": [
        "def discriminator():\n",
        "    model=Sequential()\n",
        "    model.add(Input(shape=img_shape))\n",
        "    model.add(Flatten())\n",
        "    model.add(Dense(512))\n",
        "    model.add(LeakyReLU(alpha=0.2))\n",
        "    model.add(Dense(256))\n",
        "    model.add(LeakyReLU(alpha=0.2))\n",
        "    model.add(Dense(1,activation=\"sigmoid\"))\n",
        "    \n",
        "    \"................................................\"\n",
        "    return model"
      ]
    },
    {
      "cell_type": "code",
      "source": [
        "dis=discriminator()\n",
        "dis.summary()"
      ],
      "metadata": {
        "id": "fWvMFc3E9SI8",
        "colab": {
          "base_uri": "https://localhost:8080/"
        },
        "outputId": "300b0636-4fc9-43ba-d08f-6b241a5363f2"
      },
      "execution_count": null,
      "outputs": [
        {
          "output_type": "stream",
          "name": "stdout",
          "text": [
            "Model: \"sequential_1\"\n",
            "_________________________________________________________________\n",
            " Layer (type)                Output Shape              Param #   \n",
            "=================================================================\n",
            " flatten (Flatten)           (None, 784)               0         \n",
            "                                                                 \n",
            " dense_4 (Dense)             (None, 512)               401920    \n",
            "                                                                 \n",
            " leaky_re_lu_3 (LeakyReLU)   (None, 512)               0         \n",
            "                                                                 \n",
            " dense_5 (Dense)             (None, 256)               131328    \n",
            "                                                                 \n",
            " leaky_re_lu_4 (LeakyReLU)   (None, 256)               0         \n",
            "                                                                 \n",
            " dense_6 (Dense)             (None, 1)                 257       \n",
            "                                                                 \n",
            "=================================================================\n",
            "Total params: 533,505\n",
            "Trainable params: 533,505\n",
            "Non-trainable params: 0\n",
            "_________________________________________________________________\n"
          ]
        }
      ]
    },
    {
      "cell_type": "code",
      "execution_count": null,
      "metadata": {
        "id": "m0Shaasy1HJA"
      },
      "outputs": [],
      "source": [
        "def train(epochs,batch_size):\n",
        "    half_batch=int(batch_size/2)\n",
        "    (x_train,x_test),(y_train,y_test)=mnist.load_data()\n",
        "    x_train = (x_train.astype(num.float32) - 127.5) / 127.5\n",
        "\n",
        "    batch_step=int(x_train.shape[0]/batch_size)\n",
        "    x_train=num.expand_dims(x_train,axis=3)\n",
        "    for epoch in range(epochs):\n",
        "        s=0\n",
        "        for batch in range(batch_step):\n",
        "            x=x_train[s:(s+half_batch)]\n",
        "            s=s+batch_size;\n",
        "            latency=num.random.normal(0,1,(half_batch,100))\n",
        "            fake_img=gen.predict(latency)\n",
        "            discrim_real=dis.train_on_batch(x,num.ones((half_batch,1)))\n",
        "            discrim_fake=dis.train_on_batch(fake_img,num.zeros((half_batch,1)))\n",
        "            #------------------------------------------------------\n",
        "            discrim_loss=0.5*num.add(discrim_real,discrim_fake)\n",
        "            #......................................................\n",
        "            #......................................................\n",
        "            noise=num.random.normal(0,1,(batch_size,100))\n",
        "            labels=num.array([1]*batch_size)\n",
        "            g_loss=combine.train_on_batch(noise,labels)\n",
        "            if(batch==(batch_step-1)):\n",
        "                print (\"epoch :%d   batch size: %d [D loss: %f, acc.: %.2f%%] [G loss: %f]\" % (epoch,batch_step, discrim_loss[0], 100*discrim_loss[1], g_loss))\n"
      ]
    },
    {
      "cell_type": "code",
      "execution_count": null,
      "metadata": {
        "id": "kNq33Uhl1HL8"
      },
      "outputs": [],
      "source": [
        "dis.compile(optimizer=\"adam\",loss=\"binary_crossentropy\",metrics=[\"accuracy\"])"
      ]
    },
    {
      "cell_type": "code",
      "execution_count": null,
      "metadata": {
        "id": "JMK94vSc1HO-"
      },
      "outputs": [],
      "source": [
        "gen.compile(optimizer=\"adam\",loss=\"binary_crossentropy\")"
      ]
    },
    {
      "cell_type": "code",
      "execution_count": null,
      "metadata": {
        "id": "RMWEJsow1HSD"
      },
      "outputs": [],
      "source": [
        "z=Input(shape=(100,))\n",
        "img=gen(z)\n"
      ]
    },
    {
      "cell_type": "code",
      "execution_count": null,
      "metadata": {
        "id": "stZyH6yI1HU7"
      },
      "outputs": [],
      "source": [
        "dis.trainable=False\n",
        "valid_f=dis(img)"
      ]
    },
    {
      "cell_type": "code",
      "execution_count": null,
      "metadata": {
        "id": "N_Sw1R7J1HXy"
      },
      "outputs": [],
      "source": [
        "combine=Model(z,valid_f)\n",
        "combine.compile(optimizer=\"adam\",loss=\"binary_crossentropy\")"
      ]
    },
    {
      "cell_type": "code",
      "execution_count": null,
      "metadata": {
        "id": "N5Z7mKms1HbQ",
        "colab": {
          "base_uri": "https://localhost:8080/"
        },
        "outputId": "8578ef24-71b5-4b77-d3ae-b645e87f232f"
      },
      "outputs": [
        {
          "output_type": "stream",
          "name": "stdout",
          "text": [
            "Model: \"model\"\n",
            "_________________________________________________________________\n",
            " Layer (type)                Output Shape              Param #   \n",
            "=================================================================\n",
            " input_3 (InputLayer)        [(None, 100)]             0         \n",
            "                                                                 \n",
            " sequential (Sequential)     (None, 28, 28, 1)         1493520   \n",
            "                                                                 \n",
            " sequential_1 (Sequential)   (None, 1)                 533505    \n",
            "                                                                 \n",
            "=================================================================\n",
            "Total params: 2,027,025\n",
            "Trainable params: 1,489,936\n",
            "Non-trainable params: 537,089\n",
            "_________________________________________________________________\n"
          ]
        }
      ],
      "source": [
        "combine.summary()"
      ]
    },
    {
      "cell_type": "code",
      "source": [
        "train(100,64)"
      ],
      "metadata": {
        "colab": {
          "base_uri": "https://localhost:8080/"
        },
        "id": "VHcOHcgFptPl",
        "outputId": "beeca478-2454-490f-c2d8-bd1f8a201df2"
      },
      "execution_count": null,
      "outputs": [
        {
          "output_type": "stream",
          "name": "stdout",
          "text": [
            "Downloading data from https://storage.googleapis.com/tensorflow/tf-keras-datasets/mnist.npz\n",
            "11493376/11490434 [==============================] - 0s 0us/step\n",
            "11501568/11490434 [==============================] - 0s 0us/step\n",
            "epoch :0   batch size: 937 [D loss: 0.084831, acc.: 96.88%] [G loss: 7.280415]\n",
            "epoch :1   batch size: 937 [D loss: 0.691811, acc.: 78.12%] [G loss: 2.880415]\n",
            "epoch :2   batch size: 937 [D loss: 0.711862, acc.: 71.88%] [G loss: 4.027951]\n",
            "epoch :3   batch size: 937 [D loss: 0.051490, acc.: 96.88%] [G loss: 5.847403]\n",
            "epoch :4   batch size: 937 [D loss: 0.069801, acc.: 100.00%] [G loss: 5.867496]\n",
            "epoch :5   batch size: 937 [D loss: 0.057149, acc.: 98.44%] [G loss: 6.399790]\n",
            "epoch :6   batch size: 937 [D loss: 0.117971, acc.: 95.31%] [G loss: 7.471742]\n",
            "epoch :7   batch size: 937 [D loss: 0.310939, acc.: 89.06%] [G loss: 5.877781]\n",
            "epoch :8   batch size: 937 [D loss: 0.313973, acc.: 87.50%] [G loss: 7.803111]\n",
            "epoch :9   batch size: 937 [D loss: 0.313604, acc.: 85.94%] [G loss: 6.656828]\n",
            "epoch :10   batch size: 937 [D loss: 1.622880, acc.: 60.94%] [G loss: 2.424783]\n",
            "epoch :11   batch size: 937 [D loss: 0.184201, acc.: 95.31%] [G loss: 5.865823]\n",
            "epoch :12   batch size: 937 [D loss: 0.668716, acc.: 70.31%] [G loss: 2.392597]\n",
            "epoch :13   batch size: 937 [D loss: 0.294431, acc.: 89.06%] [G loss: 4.072896]\n",
            "epoch :14   batch size: 937 [D loss: 0.467834, acc.: 78.12%] [G loss: 5.508099]\n",
            "epoch :15   batch size: 937 [D loss: 1.119776, acc.: 51.56%] [G loss: 2.105418]\n",
            "epoch :16   batch size: 937 [D loss: 0.837315, acc.: 68.75%] [G loss: 2.937574]\n",
            "epoch :17   batch size: 937 [D loss: 0.842481, acc.: 71.88%] [G loss: 3.368617]\n",
            "epoch :18   batch size: 937 [D loss: 0.503130, acc.: 79.69%] [G loss: 4.101535]\n",
            "epoch :19   batch size: 937 [D loss: 0.555711, acc.: 71.88%] [G loss: 6.018439]\n",
            "epoch :20   batch size: 937 [D loss: 0.531868, acc.: 82.81%] [G loss: 2.457145]\n",
            "epoch :21   batch size: 937 [D loss: 0.231173, acc.: 89.06%] [G loss: 3.700320]\n",
            "epoch :22   batch size: 937 [D loss: 0.230675, acc.: 89.06%] [G loss: 3.909665]\n",
            "epoch :23   batch size: 937 [D loss: 0.420660, acc.: 84.38%] [G loss: 5.072490]\n",
            "epoch :24   batch size: 937 [D loss: 0.456170, acc.: 84.38%] [G loss: 3.028514]\n",
            "epoch :25   batch size: 937 [D loss: 0.384279, acc.: 79.69%] [G loss: 3.313715]\n",
            "epoch :26   batch size: 937 [D loss: 0.464668, acc.: 82.81%] [G loss: 1.914907]\n",
            "epoch :27   batch size: 937 [D loss: 0.601600, acc.: 67.19%] [G loss: 2.186692]\n",
            "epoch :28   batch size: 937 [D loss: 0.327539, acc.: 89.06%] [G loss: 3.552577]\n",
            "epoch :29   batch size: 937 [D loss: 0.509358, acc.: 71.88%] [G loss: 2.760893]\n",
            "epoch :30   batch size: 937 [D loss: 0.502906, acc.: 81.25%] [G loss: 2.186814]\n",
            "epoch :31   batch size: 937 [D loss: 0.426561, acc.: 79.69%] [G loss: 2.532408]\n",
            "epoch :32   batch size: 937 [D loss: 1.077283, acc.: 50.00%] [G loss: 2.132814]\n",
            "epoch :33   batch size: 937 [D loss: 0.394191, acc.: 89.06%] [G loss: 2.010315]\n",
            "epoch :34   batch size: 937 [D loss: 0.396852, acc.: 78.12%] [G loss: 1.609409]\n",
            "epoch :35   batch size: 937 [D loss: 0.529448, acc.: 76.56%] [G loss: 2.292818]\n",
            "epoch :36   batch size: 937 [D loss: 0.353603, acc.: 85.94%] [G loss: 2.258988]\n",
            "epoch :37   batch size: 937 [D loss: 0.533492, acc.: 70.31%] [G loss: 2.206640]\n",
            "epoch :38   batch size: 937 [D loss: 0.855887, acc.: 59.38%] [G loss: 1.433043]\n",
            "epoch :39   batch size: 937 [D loss: 0.652153, acc.: 68.75%] [G loss: 1.471180]\n",
            "epoch :40   batch size: 937 [D loss: 0.583475, acc.: 67.19%] [G loss: 1.619824]\n",
            "epoch :41   batch size: 937 [D loss: 0.359277, acc.: 84.38%] [G loss: 2.096688]\n",
            "epoch :42   batch size: 937 [D loss: 0.504938, acc.: 75.00%] [G loss: 1.897031]\n",
            "epoch :43   batch size: 937 [D loss: 0.555175, acc.: 70.31%] [G loss: 1.889921]\n",
            "epoch :44   batch size: 937 [D loss: 0.398831, acc.: 87.50%] [G loss: 1.511424]\n",
            "epoch :45   batch size: 937 [D loss: 0.456464, acc.: 79.69%] [G loss: 2.048340]\n",
            "epoch :46   batch size: 937 [D loss: 0.358761, acc.: 85.94%] [G loss: 1.829304]\n",
            "epoch :47   batch size: 937 [D loss: 0.357504, acc.: 84.38%] [G loss: 1.920806]\n",
            "epoch :48   batch size: 937 [D loss: 0.486489, acc.: 76.56%] [G loss: 2.120113]\n",
            "epoch :49   batch size: 937 [D loss: 0.514344, acc.: 76.56%] [G loss: 1.404712]\n",
            "epoch :50   batch size: 937 [D loss: 0.492515, acc.: 73.44%] [G loss: 1.849381]\n",
            "epoch :51   batch size: 937 [D loss: 0.635301, acc.: 67.19%] [G loss: 1.467432]\n",
            "epoch :52   batch size: 937 [D loss: 0.572673, acc.: 70.31%] [G loss: 1.414149]\n",
            "epoch :53   batch size: 937 [D loss: 0.472449, acc.: 79.69%] [G loss: 1.884887]\n",
            "epoch :54   batch size: 937 [D loss: 0.650664, acc.: 65.62%] [G loss: 1.592728]\n",
            "epoch :55   batch size: 937 [D loss: 0.721532, acc.: 71.88%] [G loss: 1.556910]\n",
            "epoch :56   batch size: 937 [D loss: 0.667103, acc.: 68.75%] [G loss: 1.452758]\n",
            "epoch :57   batch size: 937 [D loss: 0.771198, acc.: 59.38%] [G loss: 1.300566]\n",
            "epoch :58   batch size: 937 [D loss: 0.563319, acc.: 73.44%] [G loss: 1.636237]\n",
            "epoch :59   batch size: 937 [D loss: 0.543336, acc.: 73.44%] [G loss: 1.369693]\n",
            "epoch :60   batch size: 937 [D loss: 0.609147, acc.: 76.56%] [G loss: 1.683522]\n",
            "epoch :61   batch size: 937 [D loss: 0.519060, acc.: 76.56%] [G loss: 1.547945]\n",
            "epoch :62   batch size: 937 [D loss: 0.429030, acc.: 78.12%] [G loss: 1.391010]\n",
            "epoch :63   batch size: 937 [D loss: 0.697487, acc.: 60.94%] [G loss: 1.615730]\n",
            "epoch :64   batch size: 937 [D loss: 0.353478, acc.: 85.94%] [G loss: 1.584987]\n",
            "epoch :65   batch size: 937 [D loss: 0.405032, acc.: 84.38%] [G loss: 2.082269]\n",
            "epoch :66   batch size: 937 [D loss: 0.354607, acc.: 87.50%] [G loss: 2.004194]\n",
            "epoch :67   batch size: 937 [D loss: 0.574156, acc.: 73.44%] [G loss: 1.503613]\n",
            "epoch :68   batch size: 937 [D loss: 0.570259, acc.: 64.06%] [G loss: 1.469618]\n",
            "epoch :69   batch size: 937 [D loss: 0.406408, acc.: 87.50%] [G loss: 2.007681]\n",
            "epoch :70   batch size: 937 [D loss: 0.322930, acc.: 85.94%] [G loss: 1.750418]\n",
            "epoch :71   batch size: 937 [D loss: 0.488523, acc.: 70.31%] [G loss: 1.360836]\n",
            "epoch :72   batch size: 937 [D loss: 0.498008, acc.: 75.00%] [G loss: 1.345328]\n",
            "epoch :73   batch size: 937 [D loss: 0.442382, acc.: 84.38%] [G loss: 1.600239]\n",
            "epoch :74   batch size: 937 [D loss: 0.501606, acc.: 76.56%] [G loss: 1.462786]\n",
            "epoch :75   batch size: 937 [D loss: 0.691974, acc.: 60.94%] [G loss: 1.370404]\n",
            "epoch :76   batch size: 937 [D loss: 0.516223, acc.: 76.56%] [G loss: 1.254255]\n",
            "epoch :77   batch size: 937 [D loss: 0.441965, acc.: 81.25%] [G loss: 1.628361]\n",
            "epoch :78   batch size: 937 [D loss: 0.493954, acc.: 73.44%] [G loss: 1.321483]\n",
            "epoch :79   batch size: 937 [D loss: 0.450382, acc.: 78.12%] [G loss: 1.730443]\n",
            "epoch :80   batch size: 937 [D loss: 0.525846, acc.: 73.44%] [G loss: 1.773005]\n",
            "epoch :81   batch size: 937 [D loss: 0.442394, acc.: 81.25%] [G loss: 1.694683]\n",
            "epoch :82   batch size: 937 [D loss: 0.757709, acc.: 67.19%] [G loss: 1.549840]\n",
            "epoch :83   batch size: 937 [D loss: 0.659513, acc.: 67.19%] [G loss: 1.742815]\n",
            "epoch :84   batch size: 937 [D loss: 0.480767, acc.: 81.25%] [G loss: 1.509074]\n",
            "epoch :85   batch size: 937 [D loss: 0.739592, acc.: 60.94%] [G loss: 1.260503]\n",
            "epoch :86   batch size: 937 [D loss: 0.822463, acc.: 50.00%] [G loss: 1.344155]\n",
            "epoch :87   batch size: 937 [D loss: 0.615221, acc.: 60.94%] [G loss: 1.217870]\n",
            "epoch :88   batch size: 937 [D loss: 0.567676, acc.: 71.88%] [G loss: 1.483891]\n",
            "epoch :89   batch size: 937 [D loss: 0.523480, acc.: 71.88%] [G loss: 1.432083]\n",
            "epoch :90   batch size: 937 [D loss: 0.370612, acc.: 81.25%] [G loss: 2.246531]\n",
            "epoch :91   batch size: 937 [D loss: 0.505663, acc.: 71.88%] [G loss: 2.033976]\n",
            "epoch :92   batch size: 937 [D loss: 0.672418, acc.: 65.62%] [G loss: 1.459428]\n",
            "epoch :93   batch size: 937 [D loss: 0.677426, acc.: 65.62%] [G loss: 1.682514]\n",
            "epoch :94   batch size: 937 [D loss: 0.469903, acc.: 75.00%] [G loss: 1.377094]\n",
            "epoch :95   batch size: 937 [D loss: 0.665490, acc.: 68.75%] [G loss: 2.271022]\n",
            "epoch :96   batch size: 937 [D loss: 0.447477, acc.: 76.56%] [G loss: 1.853682]\n",
            "epoch :97   batch size: 937 [D loss: 0.452857, acc.: 76.56%] [G loss: 1.144754]\n",
            "epoch :98   batch size: 937 [D loss: 0.437466, acc.: 76.56%] [G loss: 1.800841]\n",
            "epoch :99   batch size: 937 [D loss: 0.394887, acc.: 87.50%] [G loss: 1.934141]\n"
          ]
        }
      ]
    },
    {
      "cell_type": "code",
      "source": [
        "val=num.random.normal(0,1,(4,100))"
      ],
      "metadata": {
        "id": "4jvmn4KAptS9"
      },
      "execution_count": null,
      "outputs": []
    },
    {
      "cell_type": "code",
      "source": [
        "val.shape"
      ],
      "metadata": {
        "colab": {
          "base_uri": "https://localhost:8080/"
        },
        "id": "U4bxDUwuptcN",
        "outputId": "2713e91c-549e-4371-fde1-e3094af6ff3d"
      },
      "execution_count": null,
      "outputs": [
        {
          "output_type": "execute_result",
          "data": {
            "text/plain": [
              "(4, 100)"
            ]
          },
          "metadata": {},
          "execution_count": 16
        }
      ]
    },
    {
      "cell_type": "code",
      "source": [
        "pred=gen.predict(val)"
      ],
      "metadata": {
        "id": "a9mGumLJp3mb"
      },
      "execution_count": null,
      "outputs": []
    },
    {
      "cell_type": "code",
      "source": [
        "pred.shape"
      ],
      "metadata": {
        "colab": {
          "base_uri": "https://localhost:8080/"
        },
        "id": "ydiVp4sop4uh",
        "outputId": "8fc5217f-a667-4661-d196-78c77b115011"
      },
      "execution_count": null,
      "outputs": [
        {
          "output_type": "execute_result",
          "data": {
            "text/plain": [
              "(4, 28, 28, 1)"
            ]
          },
          "metadata": {},
          "execution_count": 18
        }
      ]
    },
    {
      "cell_type": "code",
      "source": [
        "re_pred=num.squeeze(pred,axis=3)"
      ],
      "metadata": {
        "id": "12eHRMPMp4xY"
      },
      "execution_count": null,
      "outputs": []
    },
    {
      "cell_type": "code",
      "source": [
        "plt.figure(figsize=(10,10))\n",
        "plt.subplot(2,2,1)\n",
        "plt.imshow(re_pred[0],cmap=\"binary\")\n",
        "plt.subplot(2,2,2)\n",
        "plt.imshow(re_pred[1],cmap=\"binary\")\n",
        "plt.subplot(2,2,3)\n",
        "plt.imshow(re_pred[2],cmap=\"binary\")\n",
        "plt.subplot(2,2,4)\n",
        "plt.imshow(re_pred[3],cmap=\"binary\")\n"
      ],
      "metadata": {
        "colab": {
          "base_uri": "https://localhost:8080/",
          "height": 610
        },
        "id": "gY1-jaMYp40V",
        "outputId": "49c83182-ff0f-4938-d772-c17b73bd63b1"
      },
      "execution_count": null,
      "outputs": [
        {
          "output_type": "execute_result",
          "data": {
            "text/plain": [
              "<matplotlib.image.AxesImage at 0x7feab8412150>"
            ]
          },
          "metadata": {},
          "execution_count": 20
        },
        {
          "output_type": "display_data",
          "data": {
            "image/png": "[encoded data removed]",
            "text/plain": [
              "<Figure size 720x720 with 4 Axes>"
            ]
          },
          "metadata": {
            "needs_background": "light"
          }
        }
      ]
    },
    {
      "cell_type": "code",
      "source": [
        ""
      ],
      "metadata": {
        "id": "eTM-vd9Qp43F"
      },
      "execution_count": null,
      "outputs": []
    },
    {
      "cell_type": "code",
      "source": [
        ""
      ],
      "metadata": {
        "id": "aPY0JcWlp46C"
      },
      "execution_count": null,
      "outputs": []
    },
    {
      "cell_type": "code",
      "source": [
        ""
      ],
      "metadata": {
        "id": "mjy3VPQ5p48x"
      },
      "execution_count": null,
      "outputs": []
    },
    {
      "cell_type": "code",
      "source": [
        ""
      ],
      "metadata": {
        "id": "vdNInH3Kp4-o"
      },
      "execution_count": null,
      "outputs": []
    },
    {
      "cell_type": "code",
      "source": [
        ""
      ],
      "metadata": {
        "id": "QcZXlk8Kp5CK"
      },
      "execution_count": null,
      "outputs": []
    }
  ],
  "metadata": {
    "accelerator": "GPU",
    "colab": {
      "name": "GAN",
      "toc_visible": true,
      "provenance": [],
      "authorship_tag": "ABX9TyNZ7vVjr6X/b9ocsnzdOgBM",
      "include_colab_link": true
    },
    "kernelspec": {
      "display_name": "Python 3",
      "name": "python3"
    },
    "language_info": {
      "name": "python"
    }
  },
  "nbformat": 4,
  "nbformat_minor": 0
}